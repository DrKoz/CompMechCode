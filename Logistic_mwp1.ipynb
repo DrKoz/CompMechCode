{
 "cells": [
  {
   "cell_type": "code",
   "execution_count": null,
   "metadata": {},
   "outputs": [],
   "source": [
    "%matplotlib inline \n",
    "\n",
    "from __future__ import division, print_function\n",
    "from math import *\n",
    "import numpy as np\n",
    "from scipy import optimize\n",
    "import matplotlib.pyplot as plt"
   ]
  },
  {
   "cell_type": "code",
   "execution_count": null,
   "metadata": {},
   "outputs": [],
   "source": [
    "r=1.4             #control parameter (between 1 and 4)\n",
    "x0=0.2            #initial x  (0 to 1)\n",
    "\n",
    "tlist=[]\n",
    "xlist=[]\n",
    "\n",
    "t=0\n",
    "x=x0\n",
    "\n",
    "while t<10:\n",
    "    \n",
    "    x=r*x*(1-x)\n",
    "                #insert logistic map\n",
    "        \n",
    "    t+=1\n",
    "    tlist.append(t)\n",
    "    xlist.append(x)\n",
    "    \n",
    "    #   print(i,\"  \",x)\n",
    "plt.title('x vs t')\n",
    "plt.xlabel('t')\n",
    "plt.ylabel('x ')\n",
    "plt.plot(tlist, xlist, 'b-')\n",
    "plt.show()\n",
    "    \n",
    "    "
   ]
  },
  {
   "cell_type": "code",
   "execution_count": null,
   "metadata": {},
   "outputs": [],
   "source": [
    "r=2.8\n",
    "dr=1e-4\n",
    "x0= 0.1        #staring value 0 to 1\n",
    "\n",
    "rlist=[]\n",
    "xlist=[]\n",
    "\n",
    "i=0\n",
    "x=x0\n",
    "\n",
    "while r<4.0001:\n",
    "    while i<1001:\n",
    " \n",
    "        x=r*x*(1-x)\n",
    "    \n",
    "        i+=1\n",
    "        if i>900:\n",
    "            rlist.append(r)\n",
    "            xlist.append(x)\n",
    "    \n",
    "    r+=dr\n",
    "    i=0\n",
    "\n",
    "plt.title('x vs r')\n",
    "plt.xlabel('r')\n",
    "plt.ylabel('x ')\n",
    "plt.ylim((0, 1))\n",
    "plt.plot(rlist, xlist, 'b.', markersize=0.01)          #markersize indicates the size of the dot.  It can be fractional.\n",
    "plt.show()\n",
    "    \n",
    "    "
   ]
  },
  {
   "cell_type": "code",
   "execution_count": null,
   "metadata": {},
   "outputs": [],
   "source": []
  }
 ],
 "metadata": {
  "anaconda-cloud": {},
  "kernelspec": {
   "display_name": "Python 3",
   "language": "python",
   "name": "python3"
  },
  "language_info": {
   "codemirror_mode": {
    "name": "ipython",
    "version": 3
   },
   "file_extension": ".py",
   "mimetype": "text/x-python",
   "name": "python",
   "nbconvert_exporter": "python",
   "pygments_lexer": "ipython3",
   "version": "3.8.5"
  }
 },
 "nbformat": 4,
 "nbformat_minor": 1
}
